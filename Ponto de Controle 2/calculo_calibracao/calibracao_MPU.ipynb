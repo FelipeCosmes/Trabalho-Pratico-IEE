{
 "cells": [
  {
   "cell_type": "code",
   "execution_count": 2,
   "id": "ef21f012",
   "metadata": {},
   "outputs": [],
   "source": [
    "import numpy as np"
   ]
  },
  {
   "cell_type": "markdown",
   "id": "577689cf",
   "metadata": {},
   "source": [
    "### Calibração do eixo X\n",
    "> A1x = $\\bar{A}_{+1g,x}$\n",
    "\n",
    "> A2x = $\\bar{A}_{-1g,x}$"
   ]
  },
  {
   "cell_type": "code",
   "execution_count": 6,
   "id": "7f263475",
   "metadata": {},
   "outputs": [],
   "source": [
    "A1x = 9.947\n",
    "A2x = -9.707"
   ]
  },
  {
   "cell_type": "code",
   "execution_count": 7,
   "id": "f16eabbe",
   "metadata": {},
   "outputs": [
    {
     "name": "stdout",
     "output_type": "stream",
     "text": [
      "Valores encontrados:\n",
      "Ganho_x = 1.0027551020408163\n",
      "Aoffset_x = 0.11999999999999922\n"
     ]
    }
   ],
   "source": [
    "# Definindo as equações do sistema\n",
    "A = np.array([[9.8, 1], [-9.8, 1]])\n",
    "\n",
    "# Valores à direita das equações\n",
    "B = np.array([A1x, A2x])\n",
    "\n",
    "# Resolvendo o sistema linear\n",
    "X = np.linalg.solve(A, B)\n",
    "\n",
    "# Obtendo os valores de Ganho_x e Aoffset_x\n",
    "Ganho_x = X[0]\n",
    "Aoffset_x = X[1]\n",
    "\n",
    "print(\"Valores encontrados:\")\n",
    "print(\"Ganho_x =\", Ganho_x)\n",
    "print(\"Aoffset_x =\", Aoffset_x)\n"
   ]
  },
  {
   "cell_type": "markdown",
   "id": "1bf92903",
   "metadata": {},
   "source": [
    "### Calibração do eixo Y\n",
    "> A1y = $\\bar{A}_{+1g,y}$\n",
    "\n",
    "> A2y = $\\bar{A}_{-1g,y}$"
   ]
  },
  {
   "cell_type": "code",
   "execution_count": 9,
   "id": "e0f1571f",
   "metadata": {},
   "outputs": [],
   "source": [
    "A1y = 9.804\n",
    "A2y = -9.821"
   ]
  },
  {
   "cell_type": "code",
   "execution_count": 10,
   "id": "9e2ce869",
   "metadata": {},
   "outputs": [
    {
     "name": "stdout",
     "output_type": "stream",
     "text": [
      "Valores encontrados:\n",
      "Ganho_y = 1.0012755102040816\n",
      "Aoffset_y = -0.00849999999999973\n"
     ]
    }
   ],
   "source": [
    "# Definindo as equações do sistema\n",
    "A = np.array([[9.8, 1], [-9.8, 1]])\n",
    "\n",
    "# Valores à direita das equações\n",
    "B = np.array([A1y, A2y])\n",
    "\n",
    "# Resolvendo o sistema linear\n",
    "X = np.linalg.solve(A, B)\n",
    "\n",
    "# Obtendo os valores de Ganho_x e Aoffset_x\n",
    "Ganho_y = X[0]\n",
    "Aoffset_y = X[1]\n",
    "\n",
    "print(\"Valores encontrados:\")\n",
    "print(\"Ganho_y =\", Ganho_y)\n",
    "print(\"Aoffset_y =\", Aoffset_y)\n"
   ]
  },
  {
   "cell_type": "markdown",
   "id": "f774833e",
   "metadata": {},
   "source": [
    "### Calibração do eixo Z\n",
    "> A1z = $\\bar{A}_{+1g,z}$\n",
    "\n",
    "> A2z = $\\bar{A}_{-1g,z}$"
   ]
  },
  {
   "cell_type": "code",
   "execution_count": 13,
   "id": "8588549c",
   "metadata": {},
   "outputs": [],
   "source": [
    "A1z = 13.043\n",
    "A2z = -6.942"
   ]
  },
  {
   "cell_type": "code",
   "execution_count": 14,
   "id": "e16711fc",
   "metadata": {},
   "outputs": [
    {
     "name": "stdout",
     "output_type": "stream",
     "text": [
      "Valores encontrados:\n",
      "Ganho_z = 1.019642857142857\n",
      "Aoffset_z = 3.0504999999999995\n"
     ]
    }
   ],
   "source": [
    "# Definindo as equações do sistema\n",
    "A = np.array([[9.8, 1], [-9.8, 1]])\n",
    "\n",
    "# Valores à direita das equações\n",
    "B = np.array([A1z, A2z])\n",
    "\n",
    "# Resolvendo o sistema linear\n",
    "X = np.linalg.solve(A, B)\n",
    "\n",
    "# Obtendo os valores de Ganho_x e Aoffset_x\n",
    "Ganho_z = X[0]\n",
    "Aoffset_z = X[1]\n",
    "\n",
    "print(\"Valores encontrados:\")\n",
    "print(\"Ganho_z =\", Ganho_z)\n",
    "print(\"Aoffset_z =\", Aoffset_z)\n"
   ]
  },
  {
   "cell_type": "code",
   "execution_count": null,
   "id": "84fb7b94",
   "metadata": {},
   "outputs": [],
   "source": []
  }
 ],
 "metadata": {
  "kernelspec": {
   "display_name": "Python 3 (ipykernel)",
   "language": "python",
   "name": "python3"
  },
  "language_info": {
   "codemirror_mode": {
    "name": "ipython",
    "version": 3
   },
   "file_extension": ".py",
   "mimetype": "text/x-python",
   "name": "python",
   "nbconvert_exporter": "python",
   "pygments_lexer": "ipython3",
   "version": "3.10.9"
  }
 },
 "nbformat": 4,
 "nbformat_minor": 5
}
