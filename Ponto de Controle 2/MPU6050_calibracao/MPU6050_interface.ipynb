{
 "cells": [
  {
   "cell_type": "code",
   "execution_count": 10,
   "metadata": {},
   "outputs": [],
   "source": [
    "import serial\n",
    "import serial.tools.list_ports\n",
    "import tkinter as tk\n",
    "import tkinter.ttk as ttk\n",
    "import matplotlib.pyplot as plt\n",
    "from matplotlib.backends.backend_tkagg import FigureCanvasTkAgg\n",
    "from tqdm import tqdm, gui as tqdm_gui\n",
    "from threading import Thread\n"
   ]
  },
  {
   "cell_type": "code",
   "execution_count": 11,
   "metadata": {},
   "outputs": [],
   "source": [
    "# Serial communication settings\n",
    "SERIAL_PORT = 'COM10'  # Replace with the appropriate serial port\n",
    "BAUD_RATE = 115200\n",
    "\n",
    "# Create a serial connection\n",
    "ser = serial.Serial(SERIAL_PORT, BAUD_RATE)"
   ]
  },
  {
   "cell_type": "code",
   "execution_count": 12,
   "metadata": {},
   "outputs": [],
   "source": [
    "# Function to handle button click\n",
    "def button_click():\n",
    "    # Initialize lists to store the received values\n",
    "    x_values = []\n",
    "    y_values = []\n",
    "    z_values = []\n",
    "    # Read and store the 100 values from Arduino\n",
    "    count = 0\n",
    "    # Send letter 'A' to Arduino\n",
    "    ser.write(b'A')\n",
    "    # Read and store the 100 values from Arduino\n",
    "    with tqdm(total=100, desc=\"Lendo MPU6050\") as pbar:\n",
    "        while count < 100:\n",
    "            line = ser.readline().decode().strip()\n",
    "            print(\"Leitura: \", line)\n",
    "\n",
    "            #if line.startswith(\"X:\") and line.find(\"Y:\") != -1 and line.find(\"Z:\") != -1:\n",
    "            if line.startswith(\"X:\"):\n",
    "                print(\"Lendo linha: \", count)\n",
    "                values = line.split()\n",
    "                x = float(values[0][2:])\n",
    "                y = float(values[1][2:])\n",
    "                z = float(values[2][2:])\n",
    "                x_values.append(x)\n",
    "                y_values.append(y)\n",
    "                z_values.append(z)\n",
    "                count += 1\n",
    "                # Update progress in the GUI\n",
    "                pbar.update(1)\n",
    "    \n",
    "    # # Start a new thread to read values and update progress\n",
    "    # thread = Thread(target=read_values)\n",
    "    # thread.start()        \n",
    "    \n",
    "    # Clear the existing plot and text box, if any\n",
    "    clear_interface()\n",
    " \n",
    "    # Plot the values\n",
    "    fig = plt.figure()\n",
    "    plt.plot(x_values, label='X')\n",
    "    plt.plot(y_values, label='Y')\n",
    "    plt.plot(z_values, label='Z')\n",
    "    plt.title('Aceleração MPU6050')\n",
    "    plt.legend()\n",
    "    plt.xlabel('Amostragem')\n",
    "    plt.ylabel('Aceleração (m/s²)')\n",
    "    # plt.show()\n",
    "\n",
    "    # Create a Tkinter canvas\n",
    "    canvas = FigureCanvasTkAgg(fig, master=window)\n",
    "    canvas.draw()\n",
    "    canvas.get_tk_widget().pack(side=tk.LEFT, fill=tk.BOTH, expand=True)\n",
    "\n",
    "     # Create a text box to display the values\n",
    "    text_box = tk.Text(window, height=10, width=30)\n",
    "    text_box.pack(side=tk.RIGHT, fill=tk.BOTH, expand=True)\n",
    "    for i in range(len(x_values)):\n",
    "        text_box.insert(tk.END, f\"{i+1}: X: {x_values[i]}, Y: {y_values[i]}, Z: {z_values[i]}\\n\")\n",
    "\n",
    "def update_progress(current_value):\n",
    "    pbar[\"value\"] = current_value\n",
    "    window.update_idletasks()\n",
    "\n",
    "def clear_interface():\n",
    "    # Clear the plot and text box by destroying the existing canvas and text widget\n",
    "    for widget in window.winfo_children():\n",
    "        if isinstance(widget, (tk.Canvas, tk.Text)):\n",
    "            widget.destroy()"
   ]
  },
  {
   "cell_type": "code",
   "execution_count": 13,
   "metadata": {},
   "outputs": [],
   "source": [
    "# Function to handle button click\n",
    "def button_click():\n",
    "    # Initialize lists to store the received values\n",
    "    x_values = []\n",
    "    y_values = []\n",
    "    z_values = []\n",
    "    # Read and store the 100 values from Arduino\n",
    "    count = 0\n",
    "    # Send letter 'A' to Arduino\n",
    "    ser.write(b'A')\n",
    "    # Read and store the 100 values from Arduino\n",
    "    with tqdm(total=100, desc=\"Lendo MPU6050\") as pbar:\n",
    "        while count < 100:\n",
    "            line = ser.readline().decode().strip()\n",
    "            print(\"Leitura: \", line)\n",
    "\n",
    "            #if line.startswith(\"X:\") and line.find(\"Y:\") != -1 and line.find(\"Z:\") != -1:\n",
    "            if line.startswith(\"X:\"):\n",
    "                print(\"Lendo linha: \", count)\n",
    "                values = line.split()\n",
    "                x = float(values[0][2:])\n",
    "                y = float(values[1][2:])\n",
    "                z = float(values[2][2:])\n",
    "                x_values.append(x)\n",
    "                y_values.append(y)\n",
    "                z_values.append(z)\n",
    "                count += 1\n",
    "                # Update progress in the GUI\n",
    "                pbar.update(1)\n",
    "    \n",
    "    # # Start a new thread to read values and update progress\n",
    "    # thread = Thread(target=read_values)\n",
    "    # thread.start()        \n",
    "    \n",
    "    # Clear the existing plot and text box, if any\n",
    "    clear_interface()\n",
    " \n",
    "    # Create a figure and subplots for each axis\n",
    "    fig, (ax1, ax2, ax3) = plt.subplots(1, 3, sharey=True)\n",
    "\n",
    "    # Plot x-axis values\n",
    "    ax1.plot(range(1, len(x_values) + 1), x_values, marker='o', markersize=5)\n",
    "    ax1.set_title('X-Axis')\n",
    "    ax1.set_xlabel('Index')\n",
    "    ax1.set_ylabel('Acceleration')\n",
    "\n",
    "    # Plot y-axis values\n",
    "    ax2.plot(range(1, len(y_values) + 1), y_values, marker='o', markersize=5)\n",
    "    ax2.set_title('Y-Axis')\n",
    "    ax2.set_xlabel('Index')\n",
    "    ax2.set_ylabel('Acceleration')\n",
    "\n",
    "    # Plot z-axis values\n",
    "    ax3.plot(range(1, len(z_values) + 1), z_values, marker='o', markersize=5)\n",
    "    ax3.set_title('Z-Axis')\n",
    "    ax3.set_xlabel('Index')\n",
    "    ax3.set_ylabel('Acceleration')\n",
    "\n",
    "    #plot in the terminal the average for each axis\n",
    "    print(\"Average X: \", sum(x_values)/len(x_values))\n",
    "    print(\"Average Y: \", sum(y_values)/len(y_values))\n",
    "    print(\"Average Z: \", sum(z_values)/len(z_values))\n",
    "\n",
    "    # Create a Tkinter canvas\n",
    "    canvas = FigureCanvasTkAgg(fig, master=window)\n",
    "    canvas.draw()\n",
    "    canvas.get_tk_widget().pack(side=tk.LEFT, fill=tk.BOTH, expand=True)\n",
    "\n",
    "     # Create a text box to display the values\n",
    "    text_box = tk.Text(window, height=10, width=30)\n",
    "    text_box.pack(side=tk.RIGHT, fill=tk.BOTH, expand=True)\n",
    "    for i in range(len(x_values)):\n",
    "        text_box.insert(tk.END, f\"{i+1}: X: {x_values[i]}, Y: {y_values[i]}, Z: {z_values[i]}\\n\")\n",
    "\n",
    "def update_progress(current_value):\n",
    "    pbar[\"value\"] = current_value\n",
    "    window.update_idletasks()\n",
    "\n",
    "def clear_interface():\n",
    "    # Clear the plot and text box by destroying the existing canvas and text widget\n",
    "    for widget in window.winfo_children():\n",
    "        if isinstance(widget, (tk.Canvas, tk.Text)):\n",
    "            widget.destroy()"
   ]
  },
  {
   "cell_type": "code",
   "execution_count": 14,
   "metadata": {},
   "outputs": [
    {
     "name": "stderr",
     "output_type": "stream",
     "text": [
      "Lendo MPU6050:   3%|▎         | 3/100 [00:00<00:03, 27.37it/s]"
     ]
    },
    {
     "name": "stdout",
     "output_type": "stream",
     "text": [
      "Leitura:  Adafruit MPU6050 test!\n",
      "Leitura:  MPU6050 Found!\n",
      "Leitura:  Accelerometer range set to: +-2G\n",
      "Leitura:  Gyro range set to: +- 500 deg/s\n",
      "Leitura:  Filter bandwidth set to: 21 Hz\n",
      "Leitura:  \n",
      "Leitura:  X:-0.47 Y:-9.82 Z:3.39\n",
      "Lendo linha:  0\n",
      "Leitura:  X:-0.48 Y:-9.83 Z:3.39\n",
      "Lendo linha:  1\n",
      "Leitura:  X:-0.46 Y:-9.83 Z:3.43\n",
      "Lendo linha:  2\n",
      "Leitura:  X:-0.47 Y:-9.82 Z:3.39\n",
      "Lendo linha:  3\n"
     ]
    },
    {
     "name": "stderr",
     "output_type": "stream",
     "text": [
      "Lendo MPU6050:   6%|▌         | 6/100 [00:00<00:04, 21.26it/s]"
     ]
    },
    {
     "name": "stdout",
     "output_type": "stream",
     "text": [
      "Leitura:  X:-0.48 Y:-9.82 Z:3.38\n",
      "Lendo linha:  4\n",
      "Leitura:  X:-0.39 Y:-9.80 Z:3.43\n",
      "Lendo linha:  5\n",
      "Leitura:  X:-0.50 Y:-9.84 Z:3.51\n",
      "Lendo linha:  6\n",
      "Leitura:  X:-0.42 Y:-9.79 Z:3.39\n",
      "Lendo linha:  7\n"
     ]
    },
    {
     "name": "stderr",
     "output_type": "stream",
     "text": [
      "Lendo MPU6050:  12%|█▏        | 12/100 [00:00<00:04, 19.25it/s]"
     ]
    },
    {
     "name": "stdout",
     "output_type": "stream",
     "text": [
      "Leitura:  X:-0.47 Y:-9.82 Z:3.39\n",
      "Lendo linha:  8\n",
      "Leitura:  X:-0.50 Y:-9.83 Z:3.36\n",
      "Lendo linha:  9\n",
      "Leitura:  X:-0.44 Y:-9.79 Z:3.40\n",
      "Lendo linha:  10\n",
      "Leitura:  X:-0.50 Y:-9.87 Z:3.39\n",
      "Lendo linha:  11\n"
     ]
    },
    {
     "name": "stderr",
     "output_type": "stream",
     "text": [
      "Lendo MPU6050:  16%|█▌        | 16/100 [00:00<00:04, 18.88it/s]"
     ]
    },
    {
     "name": "stdout",
     "output_type": "stream",
     "text": [
      "Leitura:  X:-0.54 Y:-9.83 Z:3.37\n",
      "Lendo linha:  12\n",
      "Leitura:  X:-0.46 Y:-9.81 Z:3.43\n",
      "Lendo linha:  13\n",
      "Leitura:  X:-0.43 Y:-9.82 Z:3.44\n",
      "Lendo linha:  14\n",
      "Leitura:  X:-0.52 Y:-9.85 Z:3.30\n",
      "Lendo linha:  15\n"
     ]
    },
    {
     "name": "stderr",
     "output_type": "stream",
     "text": [
      "Lendo MPU6050:  20%|██        | 20/100 [00:01<00:04, 18.67it/s]"
     ]
    },
    {
     "name": "stdout",
     "output_type": "stream",
     "text": [
      "Leitura:  X:-0.38 Y:-9.78 Z:3.44\n",
      "Lendo linha:  16\n",
      "Leitura:  X:-0.49 Y:-9.83 Z:3.39\n",
      "Lendo linha:  17\n",
      "Leitura:  X:-0.48 Y:-9.83 Z:3.33\n",
      "Lendo linha:  18\n",
      "Leitura:  X:-0.47 Y:-9.81 Z:3.41\n",
      "Lendo linha:  19\n"
     ]
    },
    {
     "name": "stderr",
     "output_type": "stream",
     "text": [
      "Lendo MPU6050:  24%|██▍       | 24/100 [00:01<00:04, 18.51it/s]"
     ]
    },
    {
     "name": "stdout",
     "output_type": "stream",
     "text": [
      "Leitura:  X:-0.49 Y:-9.83 Z:3.42\n",
      "Lendo linha:  20\n",
      "Leitura:  X:-0.47 Y:-9.85 Z:3.37\n",
      "Lendo linha:  21\n",
      "Leitura:  X:-0.48 Y:-9.84 Z:3.40\n",
      "Lendo linha:  22\n",
      "Leitura:  X:-0.46 Y:-9.83 Z:3.41\n",
      "Lendo linha:  23\n"
     ]
    },
    {
     "name": "stderr",
     "output_type": "stream",
     "text": [
      "Lendo MPU6050:  28%|██▊       | 28/100 [00:01<00:03, 18.45it/s]"
     ]
    },
    {
     "name": "stdout",
     "output_type": "stream",
     "text": [
      "Leitura:  X:-0.49 Y:-9.84 Z:3.35\n",
      "Lendo linha:  24\n",
      "Leitura:  X:-0.42 Y:-9.80 Z:3.44\n",
      "Lendo linha:  25\n",
      "Leitura:  X:-0.47 Y:-9.83 Z:3.37\n",
      "Lendo linha:  26\n",
      "Leitura:  X:-0.46 Y:-9.82 Z:3.38\n",
      "Lendo linha:  27\n"
     ]
    },
    {
     "name": "stderr",
     "output_type": "stream",
     "text": [
      "Lendo MPU6050:  32%|███▏      | 32/100 [00:01<00:03, 18.43it/s]"
     ]
    },
    {
     "name": "stdout",
     "output_type": "stream",
     "text": [
      "Leitura:  X:-0.45 Y:-9.82 Z:3.43\n",
      "Lendo linha:  28\n",
      "Leitura:  X:-0.51 Y:-9.89 Z:3.38\n",
      "Lendo linha:  29\n",
      "Leitura:  X:-0.45 Y:-9.80 Z:3.35\n",
      "Lendo linha:  30\n",
      "Leitura:  X:-0.41 Y:-9.81 Z:3.45\n",
      "Lendo linha:  31\n"
     ]
    },
    {
     "name": "stderr",
     "output_type": "stream",
     "text": [
      "Lendo MPU6050:  36%|███▌      | 36/100 [00:01<00:03, 18.38it/s]"
     ]
    },
    {
     "name": "stdout",
     "output_type": "stream",
     "text": [
      "Leitura:  X:-0.50 Y:-9.84 Z:3.41\n",
      "Lendo linha:  32\n",
      "Leitura:  X:-0.37 Y:-9.82 Z:3.40\n",
      "Lendo linha:  33\n",
      "Leitura:  X:-0.50 Y:-9.82 Z:3.47\n",
      "Lendo linha:  34\n",
      "Leitura:  X:-0.47 Y:-9.81 Z:3.48\n",
      "Lendo linha:  35\n",
      "Leitura:  X:-0.46 Y:-9.83 Z:3.44\n",
      "Lendo linha:  36\n"
     ]
    },
    {
     "name": "stderr",
     "output_type": "stream",
     "text": [
      "Lendo MPU6050:  42%|████▏     | 42/100 [00:02<00:03, 18.50it/s]"
     ]
    },
    {
     "name": "stdout",
     "output_type": "stream",
     "text": [
      "Leitura:  X:-0.37 Y:-9.76 Z:3.42\n",
      "Lendo linha:  37\n",
      "Leitura:  X:-0.65 Y:-9.93 Z:3.36\n",
      "Lendo linha:  38\n",
      "Leitura:  X:-0.36 Y:-9.79 Z:3.44\n",
      "Lendo linha:  39\n",
      "Leitura:  X:-0.54 Y:-9.80 Z:3.41\n",
      "Lendo linha:  40\n",
      "Leitura:  X:-0.48 Y:-9.83 Z:3.35\n",
      "Lendo linha:  41\n"
     ]
    },
    {
     "name": "stderr",
     "output_type": "stream",
     "text": [
      "Lendo MPU6050:  46%|████▌     | 46/100 [00:02<00:02, 18.49it/s]"
     ]
    },
    {
     "name": "stdout",
     "output_type": "stream",
     "text": [
      "Leitura:  X:-0.14 Y:-9.71 Z:3.52\n",
      "Lendo linha:  42\n",
      "Leitura:  X:-0.62 Y:-9.91 Z:3.26\n",
      "Lendo linha:  43\n",
      "Leitura:  X:-0.47 Y:-9.84 Z:3.45\n",
      "Lendo linha:  44\n",
      "Leitura:  X:-0.44 Y:-9.79 Z:3.39\n",
      "Lendo linha:  45\n",
      "Leitura:  X:-0.51 Y:-9.83 Z:3.36\n",
      "Lendo linha:  46\n"
     ]
    },
    {
     "name": "stderr",
     "output_type": "stream",
     "text": [
      "Lendo MPU6050:  50%|█████     | 50/100 [00:02<00:02, 18.43it/s]"
     ]
    },
    {
     "name": "stdout",
     "output_type": "stream",
     "text": [
      "Leitura:  X:-0.44 Y:-9.83 Z:3.39\n",
      "Lendo linha:  47\n",
      "Leitura:  X:-0.47 Y:-9.83 Z:3.41\n",
      "Lendo linha:  48\n",
      "Leitura:  X:-0.48 Y:-9.83 Z:3.40\n",
      "Lendo linha:  49\n",
      "Leitura:  X:-0.45 Y:-9.79 Z:3.41\n",
      "Lendo linha:  50\n",
      "Leitura:  X:-0.45 Y:-9.81 Z:3.42\n",
      "Lendo linha:  51\n"
     ]
    },
    {
     "name": "stderr",
     "output_type": "stream",
     "text": [
      "Lendo MPU6050:  56%|█████▌    | 56/100 [00:02<00:02, 18.45it/s]"
     ]
    },
    {
     "name": "stdout",
     "output_type": "stream",
     "text": [
      "Leitura:  X:-0.52 Y:-9.84 Z:3.38\n",
      "Lendo linha:  52\n",
      "Leitura:  X:-0.46 Y:-9.82 Z:3.36\n",
      "Lendo linha:  53\n",
      "Leitura:  X:-0.46 Y:-9.84 Z:3.42\n",
      "Lendo linha:  54\n",
      "Leitura:  X:-0.48 Y:-9.83 Z:3.38\n",
      "Lendo linha:  55\n"
     ]
    },
    {
     "name": "stderr",
     "output_type": "stream",
     "text": [
      "Lendo MPU6050:  60%|██████    | 60/100 [00:03<00:02, 18.48it/s]"
     ]
    },
    {
     "name": "stdout",
     "output_type": "stream",
     "text": [
      "Leitura:  X:-0.45 Y:-9.82 Z:3.43\n",
      "Lendo linha:  56\n",
      "Leitura:  X:-0.47 Y:-9.82 Z:3.36\n",
      "Lendo linha:  57\n",
      "Leitura:  X:-0.49 Y:-9.81 Z:3.42\n",
      "Lendo linha:  58\n",
      "Leitura:  X:-0.43 Y:-9.82 Z:3.43\n",
      "Lendo linha:  59\n"
     ]
    },
    {
     "name": "stderr",
     "output_type": "stream",
     "text": [
      "Lendo MPU6050:  64%|██████▍   | 64/100 [00:03<00:01, 18.42it/s]"
     ]
    },
    {
     "name": "stdout",
     "output_type": "stream",
     "text": [
      "Leitura:  X:-0.51 Y:-9.82 Z:3.42\n",
      "Lendo linha:  60\n",
      "Leitura:  X:-0.47 Y:-9.81 Z:3.40\n",
      "Lendo linha:  61\n",
      "Leitura:  X:-0.46 Y:-9.84 Z:3.41\n",
      "Lendo linha:  62\n",
      "Leitura:  X:-0.45 Y:-9.81 Z:3.37\n",
      "Lendo linha:  63\n"
     ]
    },
    {
     "name": "stderr",
     "output_type": "stream",
     "text": [
      "Lendo MPU6050:  68%|██████▊   | 68/100 [00:03<00:01, 18.41it/s]"
     ]
    },
    {
     "name": "stdout",
     "output_type": "stream",
     "text": [
      "Leitura:  X:-0.46 Y:-9.82 Z:3.38\n",
      "Lendo linha:  64\n",
      "Leitura:  X:-0.53 Y:-9.90 Z:3.45\n",
      "Lendo linha:  65\n",
      "Leitura:  X:-0.40 Y:-9.84 Z:3.47\n",
      "Lendo linha:  66\n",
      "Leitura:  X:-0.46 Y:-9.79 Z:3.41\n",
      "Lendo linha:  67\n"
     ]
    },
    {
     "name": "stderr",
     "output_type": "stream",
     "text": [
      "Lendo MPU6050:  72%|███████▏  | 72/100 [00:03<00:01, 18.41it/s]"
     ]
    },
    {
     "name": "stdout",
     "output_type": "stream",
     "text": [
      "Leitura:  X:-0.52 Y:-9.84 Z:3.37\n",
      "Lendo linha:  68\n",
      "Leitura:  X:-0.40 Y:-9.79 Z:3.41\n",
      "Lendo linha:  69\n",
      "Leitura:  X:-0.49 Y:-9.83 Z:3.41\n",
      "Lendo linha:  70\n",
      "Leitura:  X:-0.48 Y:-9.84 Z:3.42\n",
      "Lendo linha:  71\n",
      "Leitura:  X:-0.45 Y:-9.82 Z:3.36\n",
      "Lendo linha:  72\n"
     ]
    },
    {
     "name": "stderr",
     "output_type": "stream",
     "text": [
      "Lendo MPU6050:  76%|███████▌  | 76/100 [00:04<00:01, 18.51it/s]"
     ]
    },
    {
     "name": "stdout",
     "output_type": "stream",
     "text": [
      "Leitura:  X:-0.46 Y:-9.81 Z:3.44\n",
      "Lendo linha:  73\n",
      "Leitura:  X:-0.46 Y:-9.82 Z:3.38\n",
      "Lendo linha:  74\n",
      "Leitura:  X:-0.53 Y:-9.83 Z:3.36\n",
      "Lendo linha:  75\n",
      "Leitura:  X:-0.41 Y:-9.77 Z:3.39\n",
      "Lendo linha:  76\n"
     ]
    },
    {
     "name": "stderr",
     "output_type": "stream",
     "text": [
      "Lendo MPU6050:  80%|████████  | 80/100 [00:04<00:01, 18.50it/s]"
     ]
    },
    {
     "name": "stdout",
     "output_type": "stream",
     "text": [
      "Leitura:  X:-0.50 Y:-9.86 Z:3.36\n",
      "Lendo linha:  77\n",
      "Leitura:  X:-0.45 Y:-9.81 Z:3.38\n",
      "Lendo linha:  78\n",
      "Leitura:  X:-0.45 Y:-9.82 Z:3.43\n",
      "Lendo linha:  79\n",
      "Leitura:  X:-0.49 Y:-9.83 Z:3.40\n",
      "Lendo linha:  80\n"
     ]
    },
    {
     "name": "stderr",
     "output_type": "stream",
     "text": [
      "Lendo MPU6050:  84%|████████▍ | 84/100 [00:04<00:00, 18.55it/s]"
     ]
    },
    {
     "name": "stdout",
     "output_type": "stream",
     "text": [
      "Leitura:  X:-0.46 Y:-9.83 Z:3.38\n",
      "Lendo linha:  81\n",
      "Leitura:  X:-0.46 Y:-9.80 Z:3.42\n",
      "Lendo linha:  82\n",
      "Leitura:  X:-0.49 Y:-9.83 Z:3.39\n",
      "Lendo linha:  83\n",
      "Leitura:  X:-0.45 Y:-9.80 Z:3.37\n",
      "Lendo linha:  84\n"
     ]
    },
    {
     "name": "stderr",
     "output_type": "stream",
     "text": [
      "Lendo MPU6050:  88%|████████▊ | 88/100 [00:04<00:00, 18.49it/s]"
     ]
    },
    {
     "name": "stdout",
     "output_type": "stream",
     "text": [
      "Leitura:  X:-0.40 Y:-9.81 Z:3.41\n",
      "Lendo linha:  85\n",
      "Leitura:  X:-0.53 Y:-9.84 Z:3.41\n",
      "Lendo linha:  86\n",
      "Leitura:  X:-0.50 Y:-9.84 Z:3.40\n",
      "Lendo linha:  87\n",
      "Leitura:  X:-0.48 Y:-9.81 Z:3.47\n",
      "Lendo linha:  88\n"
     ]
    },
    {
     "name": "stderr",
     "output_type": "stream",
     "text": [
      "Lendo MPU6050:  92%|█████████▏| 92/100 [00:04<00:00, 18.45it/s]"
     ]
    },
    {
     "name": "stdout",
     "output_type": "stream",
     "text": [
      "Leitura:  X:-0.44 Y:-9.81 Z:3.38\n",
      "Lendo linha:  89\n",
      "Leitura:  X:-0.54 Y:-9.89 Z:3.35\n",
      "Lendo linha:  90\n",
      "Leitura:  X:-0.41 Y:-9.79 Z:3.42\n",
      "Lendo linha:  91\n",
      "Leitura:  X:-0.49 Y:-9.81 Z:3.34\n",
      "Lendo linha:  92\n"
     ]
    },
    {
     "name": "stderr",
     "output_type": "stream",
     "text": [
      "Lendo MPU6050:  96%|█████████▌| 96/100 [00:05<00:00, 18.58it/s]"
     ]
    },
    {
     "name": "stdout",
     "output_type": "stream",
     "text": [
      "Leitura:  X:-0.50 Y:-9.85 Z:3.41\n",
      "Lendo linha:  93\n",
      "Leitura:  X:-0.48 Y:-9.82 Z:3.39\n",
      "Lendo linha:  94\n",
      "Leitura:  X:-0.45 Y:-9.82 Z:3.41\n",
      "Lendo linha:  95\n",
      "Leitura:  X:-0.45 Y:-9.83 Z:3.41\n",
      "Lendo linha:  96\n"
     ]
    },
    {
     "name": "stderr",
     "output_type": "stream",
     "text": [
      "Lendo MPU6050: 100%|██████████| 100/100 [00:05<00:00, 18.61it/s]"
     ]
    },
    {
     "name": "stdout",
     "output_type": "stream",
     "text": [
      "Leitura:  X:-0.48 Y:-9.82 Z:3.40\n",
      "Lendo linha:  97\n",
      "Leitura:  X:-0.45 Y:-9.82 Z:3.38\n",
      "Lendo linha:  98\n",
      "Leitura:  X:-0.45 Y:-9.82 Z:3.40\n",
      "Lendo linha:  99\n"
     ]
    },
    {
     "name": "stderr",
     "output_type": "stream",
     "text": [
      "\n"
     ]
    },
    {
     "name": "stdout",
     "output_type": "stream",
     "text": [
      "Average X:  -0.4658000000000001\n",
      "Average Y:  -9.823200000000005\n",
      "Average Z:  3.4003999999999994\n"
     ]
    },
    {
     "name": "stderr",
     "output_type": "stream",
     "text": [
      "Lendo MPU6050:  16%|█▌        | 16/100 [00:00<00:00, 132.36it/s]"
     ]
    },
    {
     "name": "stdout",
     "output_type": "stream",
     "text": [
      "Leitura:  X:-0.49 Y:-9.84 Z:3.38\n",
      "Lendo linha:  0\n",
      "Leitura:  X:-0.44 Y:-9.81 Z:3.41\n",
      "Lendo linha:  1\n",
      "Leitura:  X:-0.48 Y:-9.88 Z:3.42\n",
      "Lendo linha:  2\n",
      "Leitura:  X:-0.44 Y:-9.80 Z:3.37\n",
      "Lendo linha:  3\n",
      "Leitura:  X:-0.50 Y:-9.84 Z:3.46\n",
      "Lendo linha:  4\n",
      "Leitura:  X:-0.47 Y:-9.84 Z:3.38\n",
      "Lendo linha:  5\n",
      "Leitura:  X:-0.48 Y:-9.81 Z:3.38\n",
      "Lendo linha:  6\n",
      "Leitura:  X:-0.47 Y:-9.82 Z:3.42\n",
      "Lendo linha:  7\n",
      "Leitura:  X:-0.49 Y:-9.85 Z:3.38\n",
      "Lendo linha:  8\n",
      "Leitura:  X:-0.41 Y:-9.80 Z:3.38\n",
      "Lendo linha:  9\n",
      "Leitura:  X:-0.48 Y:-9.82 Z:3.41\n",
      "Lendo linha:  10\n",
      "Leitura:  X:-0.52 Y:-9.84 Z:3.38\n",
      "Lendo linha:  11\n",
      "Leitura:  X:-0.47 Y:-9.83 Z:3.39\n",
      "Lendo linha:  12\n",
      "Leitura:  X:-0.48 Y:-9.82 Z:3.40\n",
      "Lendo linha:  13\n",
      "Leitura:  X:-0.45 Y:-9.82 Z:3.36\n",
      "Lendo linha:  14\n",
      "Leitura:  X:-0.49 Y:-9.85 Z:3.42\n",
      "Lendo linha:  15\n",
      "Leitura:  X:-0.43 Y:-9.83 Z:3.46\n",
      "Lendo linha:  16\n",
      "Leitura:  X:-0.48 Y:-9.85 Z:3.44\n",
      "Lendo linha:  17\n",
      "Leitura:  X:-0.48 Y:-9.77 Z:3.24\n",
      "Lendo linha:  18\n",
      "Leitura:  X:-0.43 Y:-9.85 Z:3.43\n",
      "Lendo linha:  19\n",
      "Leitura:  X:-0.47 Y:-9.80 Z:3.36\n",
      "Lendo linha:  20\n",
      "Leitura:  X:-0.49 Y:-9.83 Z:3.37\n",
      "Lendo linha:  21\n",
      "Leitura:  X:-0.42 Y:-9.81 Z:3.42\n",
      "Lendo linha:  22\n",
      "Leitura:  X:-0.54 Y:-9.84 Z:3.36\n",
      "Lendo linha:  23\n",
      "Leitura:  X:-0.42 Y:-9.80 Z:3.38\n",
      "Lendo linha:  24\n",
      "Leitura:  X:-0.46 Y:-9.84 Z:3.40\n",
      "Lendo linha:  25\n",
      "Leitura:  X:-0.45 Y:-9.83 Z:3.41\n",
      "Lendo linha:  26\n",
      "Leitura:  X:-0.45 Y:-9.82 Z:3.38\n",
      "Lendo linha:  27\n",
      "Leitura:  X:-0.47 Y:-9.84 Z:3.39\n",
      "Lendo linha:  28\n"
     ]
    },
    {
     "name": "stderr",
     "output_type": "stream",
     "text": [
      "Lendo MPU6050:  30%|███       | 30/100 [00:00<00:02, 29.84it/s] "
     ]
    },
    {
     "name": "stdout",
     "output_type": "stream",
     "text": [
      "Leitura:  X:-0.45 Y:-9.81 Z:3.38\n",
      "Lendo linha:  29\n",
      "Leitura:  X:-0.44 Y:-9.81 Z:3.38\n",
      "Lendo linha:  30\n",
      "Leitura:  X:-0.54 Y:-9.88 Z:3.37\n",
      "Lendo linha:  31\n",
      "Leitura:  X:-0.46 Y:-9.79 Z:3.40\n",
      "Lendo linha:  32\n"
     ]
    },
    {
     "name": "stderr",
     "output_type": "stream",
     "text": [
      "Lendo MPU6050:  37%|███▋      | 37/100 [00:01<00:02, 25.39it/s]"
     ]
    },
    {
     "name": "stdout",
     "output_type": "stream",
     "text": [
      "Leitura:  X:-0.48 Y:-9.81 Z:3.38\n",
      "Lendo linha:  33\n",
      "Leitura:  X:-0.46 Y:-9.83 Z:3.40\n",
      "Lendo linha:  34\n",
      "Leitura:  X:-0.50 Y:-9.82 Z:3.39\n",
      "Lendo linha:  35\n",
      "Leitura:  X:-0.46 Y:-9.83 Z:3.36\n",
      "Lendo linha:  36\n",
      "Leitura:  X:-0.47 Y:-9.79 Z:3.39\n",
      "Lendo linha:  37\n",
      "Leitura:  X:-0.51 Y:-9.83 Z:3.35\n",
      "Lendo linha:  38\n",
      "Leitura:  X:-0.45 Y:-9.80 Z:3.39\n",
      "Lendo linha:  39\n",
      "Leitura:  X:-0.51 Y:-9.83 Z:3.39\n",
      "Lendo linha:  40\n"
     ]
    },
    {
     "name": "stderr",
     "output_type": "stream",
     "text": [
      "Lendo MPU6050:  42%|████▏     | 42/100 [00:01<00:02, 23.38it/s]"
     ]
    },
    {
     "name": "stdout",
     "output_type": "stream",
     "text": [
      "Leitura:  X:-0.46 Y:-9.81 Z:3.42\n",
      "Lendo linha:  41\n",
      "Leitura:  X:-0.48 Y:-9.84 Z:3.38\n",
      "Lendo linha:  42\n",
      "Leitura:  X:-0.47 Y:-9.82 Z:3.40\n",
      "Lendo linha:  43\n",
      "Leitura:  X:-0.49 Y:-9.83 Z:3.38\n",
      "Lendo linha:  44\n"
     ]
    },
    {
     "name": "stderr",
     "output_type": "stream",
     "text": [
      "Lendo MPU6050:  49%|████▉     | 49/100 [00:01<00:02, 21.40it/s]"
     ]
    },
    {
     "name": "stdout",
     "output_type": "stream",
     "text": [
      "Leitura:  X:-0.48 Y:-9.81 Z:3.39\n",
      "Lendo linha:  45\n",
      "Leitura:  X:-0.51 Y:-9.84 Z:3.34\n",
      "Lendo linha:  46\n",
      "Leitura:  X:-0.47 Y:-9.82 Z:3.39\n",
      "Lendo linha:  47\n",
      "Leitura:  X:-0.48 Y:-9.82 Z:3.37\n",
      "Lendo linha:  48\n"
     ]
    },
    {
     "name": "stderr",
     "output_type": "stream",
     "text": [
      "Lendo MPU6050:  52%|█████▏    | 52/100 [00:02<00:02, 20.72it/s]"
     ]
    },
    {
     "name": "stdout",
     "output_type": "stream",
     "text": [
      "Leitura:  X:-0.49 Y:-9.83 Z:3.41\n",
      "Lendo linha:  49\n",
      "Leitura:  X:-0.48 Y:-9.82 Z:3.36\n",
      "Lendo linha:  50\n",
      "Leitura:  X:-0.47 Y:-9.80 Z:3.39\n",
      "Lendo linha:  51\n",
      "Leitura:  X:-0.49 Y:-9.81 Z:3.38\n",
      "Lendo linha:  52\n"
     ]
    },
    {
     "name": "stderr",
     "output_type": "stream",
     "text": [
      "Lendo MPU6050:  55%|█████▌    | 55/100 [00:02<00:02, 20.13it/s]"
     ]
    },
    {
     "name": "stdout",
     "output_type": "stream",
     "text": [
      "Leitura:  X:-0.47 Y:-9.80 Z:3.37\n",
      "Lendo linha:  53\n",
      "Leitura:  X:-0.52 Y:-9.86 Z:3.35\n",
      "Lendo linha:  54\n",
      "Leitura:  X:-0.45 Y:-9.78 Z:3.42\n",
      "Lendo linha:  55\n",
      "Leitura:  X:-0.43 Y:-9.81 Z:3.43\n",
      "Lendo linha:  56\n"
     ]
    },
    {
     "name": "stderr",
     "output_type": "stream",
     "text": [
      "Lendo MPU6050:  61%|██████    | 61/100 [00:02<00:02, 19.33it/s]"
     ]
    },
    {
     "name": "stdout",
     "output_type": "stream",
     "text": [
      "Leitura:  X:-0.55 Y:-9.85 Z:3.29\n",
      "Lendo linha:  57\n",
      "Leitura:  X:-0.43 Y:-9.80 Z:3.46\n",
      "Lendo linha:  58\n",
      "Leitura:  X:-0.53 Y:-9.80 Z:3.31\n",
      "Lendo linha:  59\n",
      "Leitura:  X:-0.45 Y:-9.82 Z:3.41\n",
      "Lendo linha:  60\n"
     ]
    },
    {
     "name": "stderr",
     "output_type": "stream",
     "text": [
      "Lendo MPU6050:  65%|██████▌   | 65/100 [00:02<00:01, 18.97it/s]"
     ]
    },
    {
     "name": "stdout",
     "output_type": "stream",
     "text": [
      "Leitura:  X:-0.47 Y:-9.83 Z:3.42\n",
      "Lendo linha:  61\n",
      "Leitura:  X:-0.50 Y:-9.82 Z:3.36\n",
      "Lendo linha:  62\n",
      "Leitura:  X:-0.47 Y:-9.82 Z:3.37\n",
      "Lendo linha:  63\n",
      "Leitura:  X:-0.48 Y:-9.85 Z:3.42\n",
      "Lendo linha:  64\n",
      "Leitura:  X:-0.53 Y:-9.80 Z:3.32\n",
      "Lendo linha:  65\n"
     ]
    },
    {
     "name": "stderr",
     "output_type": "stream",
     "text": [
      "Lendo MPU6050:  69%|██████▉   | 69/100 [00:02<00:01, 18.77it/s]"
     ]
    },
    {
     "name": "stdout",
     "output_type": "stream",
     "text": [
      "Leitura:  X:-0.39 Y:-9.79 Z:3.41\n",
      "Lendo linha:  66\n",
      "Leitura:  X:-0.51 Y:-9.83 Z:3.36\n",
      "Lendo linha:  67\n",
      "Leitura:  X:-0.49 Y:-9.80 Z:3.36\n",
      "Lendo linha:  68\n",
      "Leitura:  X:-0.42 Y:-9.80 Z:3.41\n",
      "Lendo linha:  69\n"
     ]
    },
    {
     "name": "stderr",
     "output_type": "stream",
     "text": [
      "Lendo MPU6050:  73%|███████▎  | 73/100 [00:03<00:01, 18.64it/s]"
     ]
    },
    {
     "name": "stdout",
     "output_type": "stream",
     "text": [
      "Leitura:  X:-0.53 Y:-9.82 Z:3.36\n",
      "Lendo linha:  70\n",
      "Leitura:  X:-0.47 Y:-9.81 Z:3.39\n",
      "Lendo linha:  71\n",
      "Leitura:  X:-0.44 Y:-9.83 Z:3.38\n",
      "Lendo linha:  72\n",
      "Leitura:  X:-0.49 Y:-9.81 Z:3.43\n",
      "Lendo linha:  73\n"
     ]
    },
    {
     "name": "stderr",
     "output_type": "stream",
     "text": [
      "Lendo MPU6050:  79%|███████▉  | 79/100 [00:03<00:01, 18.57it/s]"
     ]
    },
    {
     "name": "stdout",
     "output_type": "stream",
     "text": [
      "Leitura:  X:-0.50 Y:-9.83 Z:3.29\n",
      "Lendo linha:  74\n",
      "Leitura:  X:-0.50 Y:-9.83 Z:3.47\n",
      "Lendo linha:  75\n",
      "Leitura:  X:-0.52 Y:-9.84 Z:3.31\n",
      "Lendo linha:  76\n",
      "Leitura:  X:-0.43 Y:-9.79 Z:3.36\n",
      "Lendo linha:  77\n",
      "Leitura:  X:-0.48 Y:-9.85 Z:3.42\n",
      "Lendo linha:  78\n"
     ]
    },
    {
     "name": "stderr",
     "output_type": "stream",
     "text": [
      "Lendo MPU6050:  83%|████████▎ | 83/100 [00:03<00:00, 18.49it/s]"
     ]
    },
    {
     "name": "stdout",
     "output_type": "stream",
     "text": [
      "Leitura:  X:-0.49 Y:-9.82 Z:3.37\n",
      "Lendo linha:  79\n",
      "Leitura:  X:-0.48 Y:-9.81 Z:3.34\n",
      "Lendo linha:  80\n",
      "Leitura:  X:-0.44 Y:-9.83 Z:3.41\n",
      "Lendo linha:  81\n",
      "Leitura:  X:-0.47 Y:-9.85 Z:3.38\n",
      "Lendo linha:  82\n"
     ]
    },
    {
     "name": "stderr",
     "output_type": "stream",
     "text": [
      "Lendo MPU6050:  87%|████████▋ | 87/100 [00:03<00:00, 18.45it/s]"
     ]
    },
    {
     "name": "stdout",
     "output_type": "stream",
     "text": [
      "Leitura:  X:-0.47 Y:-9.81 Z:3.41\n",
      "Lendo linha:  83\n",
      "Leitura:  X:-0.49 Y:-9.85 Z:3.40\n",
      "Lendo linha:  84\n",
      "Leitura:  X:-0.47 Y:-9.83 Z:3.38\n",
      "Lendo linha:  85\n",
      "Leitura:  X:-0.44 Y:-9.83 Z:3.42\n",
      "Lendo linha:  86\n"
     ]
    },
    {
     "name": "stderr",
     "output_type": "stream",
     "text": [
      "Lendo MPU6050:  91%|█████████ | 91/100 [00:04<00:00, 18.55it/s]"
     ]
    },
    {
     "name": "stdout",
     "output_type": "stream",
     "text": [
      "Leitura:  X:-0.46 Y:-9.84 Z:3.39\n",
      "Lendo linha:  87\n",
      "Leitura:  X:-0.43 Y:-9.80 Z:3.46\n",
      "Lendo linha:  88\n",
      "Leitura:  X:-0.48 Y:-9.82 Z:3.36\n",
      "Lendo linha:  89\n",
      "Leitura:  X:-0.48 Y:-9.83 Z:3.43\n",
      "Lendo linha:  90\n",
      "Leitura:  X:-0.45 Y:-9.80 Z:3.39\n",
      "Lendo linha:  91\n"
     ]
    },
    {
     "name": "stderr",
     "output_type": "stream",
     "text": [
      "Lendo MPU6050:  95%|█████████▌| 95/100 [00:04<00:00, 18.52it/s]"
     ]
    },
    {
     "name": "stdout",
     "output_type": "stream",
     "text": [
      "Leitura:  X:-0.46 Y:-9.85 Z:3.48\n",
      "Lendo linha:  92\n",
      "Leitura:  X:-0.47 Y:-9.80 Z:3.33\n",
      "Lendo linha:  93\n",
      "Leitura:  X:-0.47 Y:-9.82 Z:3.44\n",
      "Lendo linha:  94\n",
      "Leitura:  X:-0.49 Y:-9.86 Z:3.31\n",
      "Lendo linha:  95\n"
     ]
    },
    {
     "name": "stderr",
     "output_type": "stream",
     "text": [
      "Lendo MPU6050: 100%|██████████| 100/100 [00:04<00:00, 21.37it/s]"
     ]
    },
    {
     "name": "stdout",
     "output_type": "stream",
     "text": [
      "Leitura:  X:-0.46 Y:-9.81 Z:3.41\n",
      "Lendo linha:  96\n",
      "Leitura:  X:-0.49 Y:-9.85 Z:3.40\n",
      "Lendo linha:  97\n",
      "Leitura:  X:-0.39 Y:-9.77 Z:3.37\n",
      "Lendo linha:  98\n",
      "Leitura:  X:-0.55 Y:-9.86 Z:3.32\n",
      "Lendo linha:  99\n"
     ]
    },
    {
     "name": "stderr",
     "output_type": "stream",
     "text": [
      "\n"
     ]
    },
    {
     "name": "stdout",
     "output_type": "stream",
     "text": [
      "Average X:  -0.4732999999999999\n",
      "Average Y:  -9.8227\n",
      "Average Z:  3.3865\n"
     ]
    },
    {
     "name": "stderr",
     "output_type": "stream",
     "text": [
      "Lendo MPU6050: 100%|██████████| 100/100 [00:00<00:00, 1824.05it/s]\n"
     ]
    },
    {
     "name": "stdout",
     "output_type": "stream",
     "text": [
      "Leitura:  X:-0.45 Y:-9.80 Z:3.45\n",
      "Lendo linha:  0\n",
      "Leitura:  X:-0.49 Y:-9.82 Z:3.33\n",
      "Lendo linha:  1\n",
      "Leitura:  X:-0.49 Y:-9.81 Z:3.38\n",
      "Lendo linha:  2\n",
      "Leitura:  X:-0.45 Y:-9.84 Z:3.43\n",
      "Lendo linha:  3\n",
      "Leitura:  X:-0.52 Y:-9.84 Z:3.37\n",
      "Lendo linha:  4\n",
      "Leitura:  X:-0.39 Y:-9.78 Z:3.37\n",
      "Lendo linha:  5\n",
      "Leitura:  X:-0.55 Y:-9.88 Z:3.40\n",
      "Lendo linha:  6\n",
      "Leitura:  X:-0.41 Y:-9.77 Z:3.39\n",
      "Lendo linha:  7\n",
      "Leitura:  X:-0.44 Y:-9.82 Z:3.44\n",
      "Lendo linha:  8\n",
      "Leitura:  X:-0.57 Y:-9.83 Z:3.34\n",
      "Lendo linha:  9\n",
      "Leitura:  X:-0.42 Y:-9.78 Z:3.36\n",
      "Lendo linha:  10\n",
      "Leitura:  X:-0.44 Y:-9.82 Z:3.41\n",
      "Lendo linha:  11\n",
      "Leitura:  X:-0.51 Y:-9.85 Z:3.36\n",
      "Lendo linha:  12\n",
      "Leitura:  X:-0.48 Y:-9.82 Z:3.42\n",
      "Lendo linha:  13\n",
      "Leitura:  X:-0.48 Y:-9.84 Z:3.37\n",
      "Lendo linha:  14\n",
      "Leitura:  X:-0.48 Y:-9.83 Z:3.37\n",
      "Lendo linha:  15\n",
      "Leitura:  X:-0.47 Y:-9.84 Z:3.42\n",
      "Lendo linha:  16\n",
      "Leitura:  X:-0.47 Y:-9.82 Z:3.37\n",
      "Lendo linha:  17\n",
      "Leitura:  X:-0.48 Y:-9.84 Z:3.39\n",
      "Lendo linha:  18\n",
      "Leitura:  X:-0.46 Y:-9.84 Z:3.38\n",
      "Lendo linha:  19\n",
      "Leitura:  X:-0.47 Y:-9.84 Z:3.39\n",
      "Lendo linha:  20\n",
      "Leitura:  X:-0.47 Y:-9.83 Z:3.39\n",
      "Lendo linha:  21\n",
      "Leitura:  X:-0.53 Y:-10.04 Z:3.43\n",
      "Lendo linha:  22\n",
      "Leitura:  X:-0.24 Y:-9.87 Z:3.49\n",
      "Lendo linha:  23\n",
      "Leitura:  X:-0.41 Y:-9.84 Z:3.10\n",
      "Lendo linha:  24\n",
      "Leitura:  X:0.05 Y:-9.79 Z:3.62\n",
      "Lendo linha:  25\n",
      "Leitura:  X:-0.25 Y:-9.86 Z:3.28\n",
      "Lendo linha:  26\n",
      "Leitura:  X:-0.57 Y:-9.80 Z:3.20\n",
      "Lendo linha:  27\n",
      "Leitura:  X:-0.37 Y:-9.84 Z:3.44\n",
      "Lendo linha:  28\n",
      "Leitura:  X:-0.49 Y:-9.85 Z:3.38\n",
      "Lendo linha:  29\n",
      "Leitura:  X:-0.50 Y:-9.83 Z:3.44\n",
      "Lendo linha:  30\n",
      "Leitura:  X:-0.42 Y:-9.82 Z:3.42\n",
      "Lendo linha:  31\n",
      "Leitura:  X:-0.49 Y:-9.83 Z:3.33\n",
      "Lendo linha:  32\n",
      "Leitura:  X:-0.45 Y:-9.82 Z:3.40\n",
      "Lendo linha:  33\n",
      "Leitura:  X:-0.44 Y:-9.81 Z:3.41\n",
      "Lendo linha:  34\n",
      "Leitura:  X:-0.49 Y:-9.81 Z:3.40\n",
      "Lendo linha:  35\n",
      "Leitura:  X:-0.48 Y:-9.81 Z:3.40\n",
      "Lendo linha:  36\n",
      "Leitura:  X:-0.52 Y:-9.84 Z:3.40\n",
      "Lendo linha:  37\n",
      "Leitura:  X:-0.41 Y:-9.80 Z:3.37\n",
      "Lendo linha:  38\n",
      "Leitura:  X:-0.46 Y:-9.82 Z:3.42\n",
      "Lendo linha:  39\n",
      "Leitura:  X:-0.42 Y:-9.79 Z:3.41\n",
      "Lendo linha:  40\n",
      "Leitura:  X:-0.74 Y:-9.98 Z:3.32\n",
      "Lendo linha:  41\n",
      "Leitura:  X:-0.21 Y:-9.60 Z:3.52\n",
      "Lendo linha:  42\n",
      "Leitura:  X:-0.55 Y:-9.94 Z:3.35\n",
      "Lendo linha:  43\n",
      "Leitura:  X:-0.46 Y:-9.77 Z:3.40\n",
      "Lendo linha:  44\n",
      "Leitura:  X:-0.45 Y:-9.86 Z:3.41\n",
      "Lendo linha:  45\n",
      "Leitura:  X:-0.54 Y:-9.82 Z:3.34\n",
      "Lendo linha:  46\n",
      "Leitura:  X:-0.48 Y:-9.86 Z:3.44\n",
      "Lendo linha:  47\n",
      "Leitura:  X:-0.42 Y:-9.81 Z:3.40\n",
      "Lendo linha:  48\n",
      "Leitura:  X:-0.49 Y:-9.83 Z:3.40\n",
      "Lendo linha:  49\n",
      "Leitura:  X:-0.44 Y:-9.83 Z:3.39\n",
      "Lendo linha:  50\n",
      "Leitura:  X:-0.52 Y:-9.82 Z:3.39\n",
      "Lendo linha:  51\n",
      "Leitura:  X:-0.46 Y:-9.83 Z:3.40\n",
      "Lendo linha:  52\n",
      "Leitura:  X:-0.48 Y:-9.83 Z:3.38\n",
      "Lendo linha:  53\n",
      "Leitura:  X:-0.48 Y:-9.83 Z:3.36\n",
      "Lendo linha:  54\n",
      "Leitura:  X:-0.45 Y:-9.81 Z:3.39\n",
      "Lendo linha:  55\n",
      "Leitura:  X:-0.51 Y:-9.84 Z:3.39\n",
      "Lendo linha:  56\n",
      "Leitura:  X:-0.47 Y:-9.82 Z:3.40\n",
      "Lendo linha:  57\n",
      "Leitura:  X:-0.48 Y:-9.81 Z:3.37\n",
      "Lendo linha:  58\n",
      "Leitura:  X:-0.50 Y:-9.81 Z:3.37\n",
      "Lendo linha:  59\n",
      "Leitura:  X:-0.46 Y:-9.84 Z:3.39\n",
      "Lendo linha:  60\n",
      "Leitura:  X:-0.48 Y:-9.82 Z:3.37\n",
      "Lendo linha:  61\n",
      "Leitura:  X:-0.48 Y:-9.81 Z:3.38\n",
      "Lendo linha:  62\n",
      "Leitura:  X:-0.44 Y:-9.83 Z:3.35\n",
      "Lendo linha:  63\n",
      "Leitura:  X:-0.49 Y:-9.83 Z:3.42\n",
      "Lendo linha:  64\n",
      "Leitura:  X:-0.50 Y:-9.82 Z:3.37\n",
      "Lendo linha:  65\n",
      "Leitura:  X:-0.47 Y:-9.80 Z:3.41\n",
      "Lendo linha:  66\n",
      "Leitura:  X:-0.47 Y:-9.82 Z:3.42\n",
      "Lendo linha:  67\n",
      "Leitura:  X:-0.47 Y:-9.81 Z:3.38\n",
      "Lendo linha:  68\n",
      "Leitura:  X:-0.48 Y:-9.86 Z:3.37\n",
      "Lendo linha:  69\n",
      "Leitura:  X:-0.46 Y:-9.81 Z:3.40\n",
      "Lendo linha:  70\n",
      "Leitura:  X:-0.48 Y:-9.82 Z:3.39\n",
      "Lendo linha:  71\n",
      "Leitura:  X:-0.50 Y:-9.81 Z:3.40\n",
      "Lendo linha:  72\n",
      "Leitura:  X:-0.49 Y:-9.84 Z:3.40\n",
      "Lendo linha:  73\n",
      "Leitura:  X:-0.45 Y:-9.82 Z:3.38\n",
      "Lendo linha:  74\n",
      "Leitura:  X:-0.48 Y:-9.84 Z:3.42\n",
      "Lendo linha:  75\n",
      "Leitura:  X:-0.46 Y:-9.82 Z:3.40\n",
      "Lendo linha:  76\n",
      "Leitura:  X:-0.51 Y:-9.81 Z:3.38\n",
      "Lendo linha:  77\n",
      "Leitura:  X:-0.48 Y:-9.81 Z:3.38\n",
      "Lendo linha:  78\n",
      "Leitura:  X:-0.49 Y:-9.81 Z:3.42\n",
      "Lendo linha:  79\n",
      "Leitura:  X:-0.46 Y:-9.81 Z:3.42\n",
      "Lendo linha:  80\n",
      "Leitura:  X:-0.49 Y:-9.81 Z:3.40\n",
      "Lendo linha:  81\n",
      "Leitura:  X:-0.46 Y:-9.82 Z:3.38\n",
      "Lendo linha:  82\n",
      "Leitura:  X:-0.49 Y:-9.83 Z:3.35\n",
      "Lendo linha:  83\n",
      "Leitura:  X:-0.49 Y:-9.83 Z:3.40\n",
      "Lendo linha:  84\n",
      "Leitura:  X:-0.43 Y:-9.82 Z:3.41\n",
      "Lendo linha:  85\n",
      "Leitura:  X:-0.48 Y:-9.82 Z:3.43\n",
      "Lendo linha:  86\n",
      "Leitura:  X:-0.47 Y:-9.81 Z:3.42\n",
      "Lendo linha:  87\n",
      "Leitura:  X:-0.44 Y:-9.83 Z:3.44\n",
      "Lendo linha:  88\n",
      "Leitura:  X:-0.49 Y:-9.82 Z:3.34\n",
      "Lendo linha:  89\n",
      "Leitura:  X:-0.47 Y:-9.81 Z:3.45\n",
      "Lendo linha:  90\n",
      "Leitura:  X:-0.47 Y:-9.82 Z:3.41\n",
      "Lendo linha:  91\n",
      "Leitura:  X:-0.49 Y:-9.82 Z:3.37\n",
      "Lendo linha:  92\n",
      "Leitura:  X:-0.47 Y:-9.82 Z:3.41\n",
      "Lendo linha:  93\n",
      "Leitura:  X:-0.51 Y:-9.82 Z:3.37\n",
      "Lendo linha:  94\n",
      "Leitura:  X:-0.46 Y:-9.81 Z:3.38\n",
      "Lendo linha:  95\n",
      "Leitura:  X:-0.47 Y:-9.81 Z:3.40\n",
      "Lendo linha:  96\n",
      "Leitura:  X:-0.48 Y:-9.82 Z:3.37\n",
      "Lendo linha:  97\n",
      "Leitura:  X:-0.48 Y:-9.83 Z:3.38\n",
      "Lendo linha:  98\n",
      "Leitura:  X:-0.49 Y:-9.85 Z:3.40\n",
      "Lendo linha:  99\n",
      "Average X:  -0.4644\n",
      "Average Y:  -9.825500000000003\n",
      "Average Z:  3.390499999999999\n"
     ]
    },
    {
     "name": "stderr",
     "output_type": "stream",
     "text": [
      "Lendo MPU6050: 100%|██████████| 100/100 [00:00<00:00, 1350.75it/s]\n"
     ]
    },
    {
     "name": "stdout",
     "output_type": "stream",
     "text": [
      "Leitura:  X:-0.46 Y:-9.81 Z:3.36\n",
      "Lendo linha:  0\n",
      "Leitura:  X:-0.51 Y:-9.82 Z:3.45\n",
      "Lendo linha:  1\n",
      "Leitura:  X:-0.47 Y:-9.81 Z:3.37\n",
      "Lendo linha:  2\n",
      "Leitura:  X:-0.49 Y:-9.81 Z:3.39\n",
      "Lendo linha:  3\n",
      "Leitura:  X:-0.46 Y:-9.82 Z:3.42\n",
      "Lendo linha:  4\n",
      "Leitura:  X:-0.50 Y:-9.82 Z:3.37\n",
      "Lendo linha:  5\n",
      "Leitura:  X:-0.47 Y:-9.81 Z:3.38\n",
      "Lendo linha:  6\n",
      "Leitura:  X:-0.51 Y:-9.83 Z:3.40\n",
      "Lendo linha:  7\n",
      "Leitura:  X:-0.47 Y:-9.81 Z:3.37\n",
      "Lendo linha:  8\n",
      "Leitura:  X:-0.49 Y:-9.82 Z:3.40\n",
      "Lendo linha:  9\n",
      "Leitura:  X:-0.48 Y:-9.84 Z:3.39\n",
      "Lendo linha:  10\n",
      "Leitura:  X:-0.49 Y:-9.82 Z:3.38\n",
      "Lendo linha:  11\n",
      "Leitura:  X:-0.48 Y:-9.83 Z:3.40\n",
      "Lendo linha:  12\n",
      "Leitura:  X:-0.49 Y:-9.83 Z:3.41\n",
      "Lendo linha:  13\n",
      "Leitura:  X:-0.47 Y:-9.80 Z:3.36\n",
      "Lendo linha:  14\n",
      "Leitura:  X:-0.47 Y:-9.83 Z:3.39\n",
      "Lendo linha:  15\n",
      "Leitura:  X:-0.48 Y:-9.84 Z:3.40\n",
      "Lendo linha:  16\n",
      "Leitura:  X:-0.49 Y:-9.83 Z:3.39\n",
      "Lendo linha:  17\n",
      "Leitura:  X:-0.46 Y:-9.83 Z:3.42\n",
      "Lendo linha:  18\n",
      "Leitura:  X:-0.48 Y:-9.84 Z:3.39\n",
      "Lendo linha:  19\n",
      "Leitura:  X:-0.48 Y:-9.83 Z:3.40\n",
      "Lendo linha:  20\n",
      "Leitura:  X:-0.49 Y:-9.84 Z:3.38\n",
      "Lendo linha:  21\n",
      "Leitura:  X:-0.47 Y:-9.81 Z:3.37\n",
      "Lendo linha:  22\n",
      "Leitura:  X:-0.48 Y:-9.78 Z:3.36\n",
      "Lendo linha:  23\n",
      "Leitura:  X:-0.51 Y:-9.84 Z:3.40\n",
      "Lendo linha:  24\n",
      "Leitura:  X:-0.49 Y:-9.75 Z:3.38\n",
      "Lendo linha:  25\n",
      "Leitura:  X:-0.44 Y:-9.85 Z:3.45\n",
      "Lendo linha:  26\n",
      "Leitura:  X:-0.58 Y:-9.80 Z:3.25\n",
      "Lendo linha:  27\n",
      "Leitura:  X:-0.46 Y:-9.88 Z:3.58\n",
      "Lendo linha:  28\n",
      "Leitura:  X:-0.51 Y:-9.80 Z:3.27\n",
      "Lendo linha:  29\n",
      "Leitura:  X:-0.52 Y:-9.83 Z:3.41\n",
      "Lendo linha:  30\n",
      "Leitura:  X:-0.42 Y:-9.78 Z:3.38\n",
      "Lendo linha:  31\n",
      "Leitura:  X:-0.56 Y:-9.85 Z:3.35\n",
      "Lendo linha:  32\n",
      "Leitura:  X:-0.39 Y:-9.78 Z:3.43\n",
      "Lendo linha:  33\n",
      "Leitura:  X:-0.56 Y:-9.83 Z:3.38\n",
      "Lendo linha:  34\n",
      "Leitura:  X:-0.46 Y:-9.83 Z:3.37\n",
      "Lendo linha:  35\n",
      "Leitura:  X:-0.48 Y:-9.82 Z:3.39\n",
      "Lendo linha:  36\n",
      "Leitura:  X:-0.49 Y:-9.82 Z:3.39\n",
      "Lendo linha:  37\n",
      "Leitura:  X:-0.48 Y:-9.83 Z:3.41\n",
      "Lendo linha:  38\n",
      "Leitura:  X:-0.46 Y:-9.81 Z:3.38\n",
      "Lendo linha:  39\n",
      "Leitura:  X:-0.49 Y:-9.82 Z:3.37\n",
      "Lendo linha:  40\n",
      "Leitura:  X:-0.45 Y:-9.80 Z:3.39\n",
      "Lendo linha:  41\n",
      "Leitura:  X:-0.48 Y:-9.82 Z:3.45\n",
      "Lendo linha:  42\n",
      "Leitura:  X:-0.49 Y:-9.82 Z:3.40\n",
      "Lendo linha:  43\n",
      "Leitura:  X:-0.46 Y:-9.84 Z:3.39\n",
      "Lendo linha:  44\n",
      "Leitura:  X:-0.47 Y:-9.83 Z:3.42\n",
      "Lendo linha:  45\n",
      "Leitura:  X:-0.46 Y:-9.81 Z:3.40\n",
      "Lendo linha:  46\n",
      "Leitura:  X:-0.51 Y:-9.82 Z:3.36\n",
      "Lendo linha:  47\n",
      "Leitura:  X:-0.46 Y:-9.79 Z:3.43\n",
      "Lendo linha:  48\n",
      "Leitura:  X:-0.51 Y:-9.82 Z:3.30\n",
      "Lendo linha:  49\n",
      "Leitura:  X:-0.48 Y:-9.82 Z:3.40\n",
      "Lendo linha:  50\n",
      "Leitura:  X:-0.45 Y:-9.80 Z:3.38\n",
      "Lendo linha:  51\n",
      "Leitura:  X:-0.54 Y:-9.88 Z:3.38\n",
      "Lendo linha:  52\n",
      "Leitura:  X:-0.46 Y:-9.79 Z:3.40\n",
      "Lendo linha:  53\n",
      "Leitura:  X:-0.52 Y:-9.83 Z:3.41\n",
      "Lendo linha:  54\n",
      "Leitura:  X:-0.48 Y:-9.82 Z:3.32\n",
      "Lendo linha:  55\n",
      "Leitura:  X:-0.51 Y:-9.83 Z:3.45\n",
      "Lendo linha:  56\n",
      "Leitura:  X:-0.49 Y:-9.81 Z:3.37\n",
      "Lendo linha:  57\n",
      "Leitura:  X:-0.46 Y:-9.81 Z:3.41\n",
      "Lendo linha:  58\n",
      "Leitura:  X:-0.48 Y:-9.88 Z:3.41\n",
      "Lendo linha:  59\n",
      "Leitura:  X:-0.56 Y:-9.82 Z:3.44\n",
      "Lendo linha:  60\n",
      "Leitura:  X:-0.44 Y:-9.79 Z:3.41\n",
      "Lendo linha:  61\n",
      "Leitura:  X:-0.52 Y:-9.88 Z:3.33\n",
      "Lendo linha:  62\n",
      "Leitura:  X:-0.45 Y:-9.82 Z:3.35\n",
      "Lendo linha:  63\n",
      "Leitura:  X:-0.45 Y:-9.88 Z:3.37\n",
      "Lendo linha:  64\n",
      "Leitura:  X:-0.52 Y:-9.79 Z:3.40\n",
      "Lendo linha:  65\n",
      "Leitura:  X:-0.46 Y:-9.82 Z:3.48\n",
      "Lendo linha:  66\n",
      "Leitura:  X:-0.47 Y:-9.80 Z:3.32\n",
      "Lendo linha:  67\n",
      "Leitura:  X:-0.56 Y:-9.84 Z:3.41\n",
      "Lendo linha:  68\n",
      "Leitura:  X:-0.36 Y:-9.77 Z:3.39\n",
      "Lendo linha:  69\n",
      "Leitura:  X:-0.57 Y:-9.84 Z:3.32\n",
      "Lendo linha:  70\n",
      "Leitura:  X:-0.46 Y:-9.82 Z:3.51\n",
      "Lendo linha:  71\n",
      "Leitura:  X:-0.43 Y:-9.82 Z:3.38\n",
      "Lendo linha:  72\n",
      "Leitura:  X:-0.57 Y:-9.81 Z:3.43\n",
      "Lendo linha:  73\n",
      "Leitura:  X:-0.48 Y:-9.78 Z:3.36\n",
      "Lendo linha:  74\n",
      "Leitura:  X:-0.48 Y:-9.84 Z:3.43\n",
      "Lendo linha:  75\n",
      "Leitura:  X:-0.48 Y:-9.80 Z:3.33\n",
      "Lendo linha:  76\n",
      "Leitura:  X:-0.47 Y:-9.84 Z:3.41\n",
      "Lendo linha:  77\n",
      "Leitura:  X:-0.49 Y:-9.82 Z:3.46\n",
      "Lendo linha:  78\n",
      "Leitura:  X:-0.50 Y:-9.82 Z:3.35\n",
      "Lendo linha:  79\n",
      "Leitura:  X:-0.46 Y:-9.81 Z:3.39\n",
      "Lendo linha:  80\n",
      "Leitura:  X:-0.49 Y:-9.84 Z:3.42\n",
      "Lendo linha:  81\n",
      "Leitura:  X:-0.46 Y:-9.78 Z:3.31\n",
      "Lendo linha:  82\n",
      "Leitura:  X:-0.51 Y:-9.83 Z:3.56\n",
      "Lendo linha:  83\n",
      "Leitura:  X:-0.44 Y:-9.77 Z:3.29\n",
      "Lendo linha:  84\n",
      "Leitura:  X:-0.51 Y:-9.86 Z:3.42\n",
      "Lendo linha:  85\n",
      "Leitura:  X:-0.48 Y:-9.82 Z:3.45\n",
      "Lendo linha:  86\n",
      "Leitura:  X:-0.50 Y:-9.84 Z:3.34\n",
      "Lendo linha:  87\n",
      "Leitura:  X:-0.44 Y:-9.82 Z:3.39\n",
      "Lendo linha:  88\n",
      "Leitura:  X:-0.49 Y:-9.84 Z:3.52\n",
      "Lendo linha:  89\n",
      "Leitura:  X:-0.49 Y:-9.78 Z:3.34\n",
      "Lendo linha:  90\n",
      "Leitura:  X:-0.48 Y:-9.82 Z:3.46\n",
      "Lendo linha:  91\n",
      "Leitura:  X:-0.47 Y:-9.78 Z:3.38\n",
      "Lendo linha:  92\n",
      "Leitura:  X:-0.54 Y:-9.86 Z:3.33\n",
      "Lendo linha:  93\n",
      "Leitura:  X:-0.47 Y:-9.84 Z:3.44\n",
      "Lendo linha:  94\n",
      "Leitura:  X:-0.46 Y:-9.82 Z:3.31\n",
      "Lendo linha:  95\n",
      "Leitura:  X:-0.49 Y:-9.84 Z:3.46\n",
      "Lendo linha:  96\n",
      "Leitura:  X:-0.49 Y:-9.85 Z:3.43\n",
      "Lendo linha:  97\n",
      "Leitura:  X:-0.49 Y:-9.82 Z:3.42\n",
      "Lendo linha:  98\n",
      "Leitura:  X:-0.53 Y:-9.83 Z:3.33\n",
      "Lendo linha:  99\n",
      "Average X:  -0.4841\n",
      "Average Y:  -9.821000000000005\n",
      "Average Z:  3.3927999999999985\n"
     ]
    },
    {
     "data": {
      "image/png": "[encoded data removed]",
      "text/plain": [
       "<Figure size 640x480 with 3 Axes>"
      ]
     },
     "metadata": {},
     "output_type": "display_data"
    },
    {
     "data": {
      "image/png": "[encoded data removed]",
      "text/plain": [
       "<Figure size 640x480 with 3 Axes>"
      ]
     },
     "metadata": {},
     "output_type": "display_data"
    },
    {
     "data": {
      "image/png": "[encoded data removed]",
      "text/plain": [
       "<Figure size 640x480 with 3 Axes>"
      ]
     },
     "metadata": {},
     "output_type": "display_data"
    },
    {
     "data": {
      "image/png": "[encoded data removed]",
      "text/plain": [
       "<Figure size 640x480 with 3 Axes>"
      ]
     },
     "metadata": {},
     "output_type": "display_data"
    }
   ],
   "source": [
    "# Create the GUI window\n",
    "window = tk.Tk()\n",
    "window.title(\"MPU6050 - Leitura de dados\")\n",
    "\n",
    "# Initialize variables for checkbox states\n",
    "show_x = tk.BooleanVar()\n",
    "show_y = tk.BooleanVar()\n",
    "show_z = tk.BooleanVar()\n",
    "\n",
    "# Create a label for serial port selection\n",
    "serial_label = tk.Label(window, text=\"Selecionar porta Serial:\")\n",
    "serial_label.pack()\n",
    "\n",
    "# Get the available serial ports\n",
    "available_ports = serial.tools.list_ports.comports()\n",
    "port_list = [port.device for port in available_ports]\n",
    "\n",
    "# Create a combo box for serial port selection\n",
    "serial_port_combo = ttk.Combobox(window, values=port_list)\n",
    "serial_port_combo.pack()\n",
    "\n",
    "# Create a button widget\n",
    "button = tk.Button(window, text=\"Start\", command=button_click)\n",
    "button.pack()\n",
    "\n",
    "# Create a progress bar widget\n",
    "pbar = ttk.Progressbar(window, orient=tk.HORIZONTAL, length=200, mode='determinate')\n",
    "pbar.pack()\n",
    "\n",
    "# Start the GUI event loop\n",
    "window.mainloop()"
   ]
  }
 ],
 "metadata": {
  "kernelspec": {
   "display_name": "Python 3",
   "language": "python",
   "name": "python3"
  },
  "language_info": {
   "codemirror_mode": {
    "name": "ipython",
    "version": 3
   },
   "file_extension": ".py",
   "mimetype": "text/x-python",
   "name": "python",
   "nbconvert_exporter": "python",
   "pygments_lexer": "ipython3",
   "version": "3.10.11"
  },
  "orig_nbformat": 4
 },
 "nbformat": 4,
 "nbformat_minor": 2
}
